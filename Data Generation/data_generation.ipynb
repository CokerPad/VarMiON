{
 "cells": [
  {
   "cell_type": "code",
   "execution_count": 1,
   "metadata": {},
   "outputs": [],
   "source": [
    "from mpi4py import MPI\n",
    "from petsc4py.PETSc import ScalarType #type: ignore\n",
    "import numpy as np\n",
    "import ufl\n",
    "from dolfinx import fem, io, mesh, plot, cpp\n",
    "from dolfinx.fem.petsc import LinearProblem\n",
    "from ufl import ds, dx, grad, inner\n",
    "from scipy.interpolate import interp2d\n",
    "from tqdm import tqdm"
   ]
  },
  {
   "cell_type": "code",
   "execution_count": 2,
   "metadata": {},
   "outputs": [
    {
     "data": {
      "text/plain": [
       "(100, 64, 64)"
      ]
     },
     "execution_count": 2,
     "metadata": {},
     "output_type": "execute_result"
    }
   ],
   "source": [
    "# Load heat source values\n",
    "heat = np.load(\"/home/shengbiaolu/snap/dolfinx-main/python/demo/Params/sample_f_64_new.npy\")\n",
    "heat.shape\n",
    "\n",
    "# Load thermal conductivity\n",
    "thermal_conductivity = np.load(\"/home/shengbiaolu/snap/dolfinx-main/python/demo/Params/sample_theta_64_new.npy\")\n",
    "thermal_conductivity.shape"
   ]
  },
  {
   "cell_type": "code",
   "execution_count": 3,
   "metadata": {},
   "outputs": [],
   "source": [
    "def interp_f_theta(f, theta):\n",
    "    x = np.linspace(-1,1,64)\n",
    "    y = np.linspace(-1,1,64)\n",
    "    x, y = np.meshgrid(x,y)\n",
    "\n",
    "    heat_interp = interp2d(x, y, f)\n",
    "    conductivity_interp = interp2d(x, y, theta)\n",
    "\n",
    "    heat_f = lambda x: heat_interp(x[0], x[1])[0]\n",
    "    conductivity_theta = lambda x: conductivity_interp(x[0], x[1])[0]\n",
    "\n",
    "    return heat_f, conductivity_theta"
   ]
  },
  {
   "cell_type": "code",
   "execution_count": 4,
   "metadata": {},
   "outputs": [],
   "source": [
    "# Create a Mesh and the element is the triangle\n",
    "msh = mesh.create_rectangle(\n",
    "    comm = MPI.COMM_WORLD,\n",
    "    points = ((-1.0, -1.0),(1.0, 1.0)),\n",
    "    n=(32, 32),\n",
    "    cell_type=mesh.CellType.quadrilateral\n",
    ")\n",
    "V = fem.functionspace(msh, (\"Lagrange\", 2))"
   ]
  },
  {
   "cell_type": "code",
   "execution_count": 5,
   "metadata": {},
   "outputs": [],
   "source": [
    "# Define the Neumann Boundary Conditions\n",
    "\n",
    "facets = mesh.locate_entities_boundary(\n",
    "    msh,\n",
    "    dim=(msh.topology.dim - 1),\n",
    "    marker=lambda x: np.isclose(x[0], -1.0) | np.isclose(x[0], 1.0)\n",
    ")\n",
    "\n",
    "dofs = fem.locate_dofs_topological(V=V, entity_dim=1, entities=facets)\n",
    "\n",
    "# Define the Dirichlet Boundary Conditions\n",
    "bc = fem.dirichletbc(value=ScalarType(0), dofs=dofs, V=V)"
   ]
  },
  {
   "cell_type": "code",
   "execution_count": 6,
   "metadata": {},
   "outputs": [
    {
     "name": "stderr",
     "output_type": "stream",
     "text": [
      "100%|██████████| 10000/10000 [8:44:29<00:00,  3.15s/it] \n"
     ]
    }
   ],
   "source": [
    "# Define the variational problem \n",
    "u = ufl.TrialFunction(V)\n",
    "v = ufl.TestFunction(V)\n",
    "x = ufl.SpatialCoordinate(msh)\n",
    "u_array = np.zeros((10000, 4225))\n",
    "\n",
    "for i in tqdm(range(10000)):\n",
    "    if i == 0:\n",
    "        heat_f, conductivity_theta = interp_f_theta(heat[i//100], thermal_conductivity[i%100])\n",
    "        \n",
    "        theta = fem.Function(V) # heat conductivity\n",
    "        theta.interpolate(conductivity_theta)\n",
    "\n",
    "        f = fem.Function(V) # Heat source\n",
    "        f.interpolate(heat_f)\n",
    "\n",
    "        g = 1\n",
    "        a = inner(grad(u), theta * grad(v)) * dx\n",
    "        L = inner(f, v) * dx + inner(g,theta * v) * ds\n",
    "\n",
    "    # Linear Problem\n",
    "    \n",
    "        problem = LinearProblem(a, L, bcs=[bc], petsc_options={\"ksp_type\":\"preonly\", \"pc_type\":\"lu\"})\n",
    "\n",
    "    else:\n",
    "        heat_f, conductivity_theta = interp_f_theta(heat[i//100], thermal_conductivity[i%100])\n",
    "        f.interpolate(heat_f)\n",
    "        theta.interpolate(conductivity_theta)\n",
    "    uh = problem.solve()\n",
    "\n",
    "\n",
    "    u_array[i] = uh.vector.array"
   ]
  },
  {
   "cell_type": "markdown",
   "metadata": {},
   "source": [
    "\"T_element_input resolution_degree\""
   ]
  },
  {
   "cell_type": "code",
   "execution_count": 7,
   "metadata": {},
   "outputs": [],
   "source": [
    "np.save(\"T_32_64_2\", u_array)"
   ]
  }
 ],
 "metadata": {
  "kernelspec": {
   "display_name": "Python 3",
   "language": "python",
   "name": "python3"
  },
  "language_info": {
   "codemirror_mode": {
    "name": "ipython",
    "version": 3
   },
   "file_extension": ".py",
   "mimetype": "text/x-python",
   "name": "python",
   "nbconvert_exporter": "python",
   "pygments_lexer": "ipython3",
   "version": "3.10.12"
  }
 },
 "nbformat": 4,
 "nbformat_minor": 2
}
